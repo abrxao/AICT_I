{
 "cells": [
  {
   "cell_type": "code",
   "execution_count": 65,
   "metadata": {},
   "outputs": [],
   "source": [
    "import numpy as np\n",
    "from DoALib import *\n",
    "import matplotlib.pyplot as plt\n",
    "from tqdm import tqdm"
   ]
  },
  {
   "cell_type": "code",
   "execution_count": 66,
   "metadata": {},
   "outputs": [],
   "source": [
    "#Number of antenna array elements\n",
    "n_antennas = 8\n",
    "\n",
    "#Number of multipaths\n",
    "n_multipaths = 2\n",
    "#Frequency of the signal 10 MHz\n",
    "f_c = 10e6\n",
    "#Wavelength\n",
    "lamb = 3e8/f_c\n",
    "#Space between the elements\n",
    "delta = lamb/2 #in meters\n",
    "#Light speed\n",
    "c = 3e8\n"
   ]
  },
  {
   "cell_type": "code",
   "execution_count": 67,
   "metadata": {},
   "outputs": [],
   "source": [
    "#Antenna array\n",
    "antenna_array = np.arange(0, n_antennas, 1)\n",
    "A_ula = np.zeros((n_antennas, n_multipaths), dtype=complex)\n",
    "#Diagonal weighting matrix\n",
    "W = np.array([[5, 0],[0, 5]])"
   ]
  },
  {
   "cell_type": "code",
   "execution_count": 68,
   "metadata": {},
   "outputs": [
    {
     "name": "stderr",
     "output_type": "stream",
     "text": [
      "  0%|          | 0/6 [00:00<?, ?it/s]"
     ]
    },
    {
     "name": "stdout",
     "output_type": "stream",
     "text": [
      "SNR -5\n"
     ]
    },
    {
     "name": "stderr",
     "output_type": "stream",
     "text": [
      " 17%|█▋        | 1/6 [00:00<00:03,  1.35it/s]"
     ]
    },
    {
     "name": "stdout",
     "output_type": "stream",
     "text": [
      "SNR 0\n"
     ]
    },
    {
     "name": "stderr",
     "output_type": "stream",
     "text": [
      " 33%|███▎      | 2/6 [00:01<00:02,  1.47it/s]"
     ]
    },
    {
     "name": "stdout",
     "output_type": "stream",
     "text": [
      "SNR 5\n"
     ]
    },
    {
     "name": "stderr",
     "output_type": "stream",
     "text": [
      " 50%|█████     | 3/6 [00:02<00:01,  1.51it/s]"
     ]
    },
    {
     "name": "stdout",
     "output_type": "stream",
     "text": [
      "SNR 10\n"
     ]
    },
    {
     "name": "stderr",
     "output_type": "stream",
     "text": [
      " 67%|██████▋   | 4/6 [00:02<00:01,  1.52it/s]"
     ]
    },
    {
     "name": "stdout",
     "output_type": "stream",
     "text": [
      "SNR 15\n"
     ]
    },
    {
     "name": "stderr",
     "output_type": "stream",
     "text": [
      " 83%|████████▎ | 5/6 [00:03<00:00,  1.52it/s]"
     ]
    },
    {
     "name": "stdout",
     "output_type": "stream",
     "text": [
      "SNR 20\n"
     ]
    },
    {
     "name": "stderr",
     "output_type": "stream",
     "text": [
      "100%|██████████| 6/6 [00:04<00:00,  1.49it/s]\n"
     ]
    }
   ],
   "source": [
    "#SNR values\n",
    "snr_vector = np.arange(-5, 21, 5)\n",
    "#Number of snapshots\n",
    "snapshots = 50\n",
    "#Number of Monte Carlo simulations\n",
    "n_monte_carlo = 50\n",
    "sqr_half = np.sqrt(0.5)\n",
    "first_angle_error_vector = []\n",
    "second_angle_error_vector = []\n",
    "s_t = np.random.normal(0,sqr_half,(n_multipaths,snapshots)) + 1j * np.random.normal(0,sqr_half,(n_multipaths,snapshots))\n",
    "range_angles = np.linspace(-60/180 * np.pi, 60/180 * np.pi, 1000)\n",
    "\n",
    "for snr_index in tqdm(range(len(snr_vector))):\n",
    "    snr = snr_vector[snr_index]\n",
    "    error_vector = np.zeros((n_multipaths,n_monte_carlo))\n",
    "    print(f\"SNR {snr}\")\n",
    "    for mc_index in range(n_monte_carlo):\n",
    "        #Angle of arrival for the first multipaths\n",
    "        angles = np.random.choice(range_angles, n_multipaths, replace=False)\n",
    "        angles = np.sort(angles)\n",
    "        #Verify if the angles are different by 2 degrees\n",
    "        tolerance_angles = 15/180 * np.pi\n",
    "        if np.abs(angles[0] - angles[1]) < tolerance_angles:\n",
    "            if angles[0] > angles[1]:\n",
    "                angles[0] += tolerance_angles\n",
    "            else:\n",
    "                angles[1] += tolerance_angles\n",
    "            \n",
    "        for i, angle in enumerate(angles):\n",
    "            mu_i = - antenna_array * np.pi * np.sin(angle)\n",
    "            A_ula[:,i] = np.exp(1j * mu_i)\n",
    "\n",
    "        A_ula = np.dot(A_ula, W)\n",
    "        \n",
    "        x_t = np.dot(A_ula, s_t)\n",
    "        #Variance of the noise\n",
    "        variance_noise = np.sqrt(1/decibelsToLinear(snr))\n",
    "        #Noise\n",
    "        noise = np.random.normal(0,variance_noise,(n_antennas,snapshots)) + 1j * np.random.normal(0,variance_noise,(n_antennas,snapshots))\n",
    "        x_t += noise\n",
    "        #Get the noise subspace\n",
    "        noise_subspace = getNoiseSubspace(x_t, n_multipaths)\n",
    "        #Get the power spectrum\n",
    "        power_spectrum, degrees = getPowerSpectrumMusic(n_antennas, noise_subspace)\n",
    "        degrees = np.degrees(degrees)\n",
    "        degrees_peaks = getDegreesPeaks((power_spectrum), degrees, n_multipaths)\n",
    "        \n",
    "        estimated_angles = np.sort(np.array(degrees_peaks))\n",
    "\n",
    "        error_vector[:,mc_index] = np.abs(np.degrees(angles) - estimated_angles)\n",
    "        if(error_vector[0,mc_index]>5 or error_vector[1,mc_index]>5):\n",
    "            print(\"estimated_angles:\", estimated_angles)\n",
    "            print(\"angles:\", np.degrees(angles))\n",
    "            plt.plot(degrees, linearToDecibels(power_spectrum), label=f\"\")\n",
    "        \n",
    "    \n",
    "    error = np.sqrt(np.mean(error_vector, axis=1))\n",
    "    first_angle_error_vector.append(error.T[0])\n",
    "    second_angle_error_vector.append(error.T[1])\n",
    "\n"
   ]
  },
  {
   "cell_type": "code",
   "execution_count": 69,
   "metadata": {},
   "outputs": [
    {
     "data": {
      "text/plain": [
       "<matplotlib.legend.Legend at 0x7db99f5e8df0>"
      ]
     },
     "execution_count": 69,
     "metadata": {},
     "output_type": "execute_result"
    },
    {
     "data": {
      "image/png": "[encoded data removed]",
      "text/plain": [
       "<Figure size 640x480 with 1 Axes>"
      ]
     },
     "metadata": {},
     "output_type": "display_data"
    }
   ],
   "source": [
    "#Ploting the results using semilog\n",
    "plt.plot(snr_vector,first_angle_error_vector, label=f'First source', linestyle='-.')\n",
    "plt.plot(snr_vector,second_angle_error_vector, label=f'Second source')\n",
    "plt.yscale('log')\n",
    "\n",
    "plt.title('MUSIC algorithm')\n",
    "plt.grid()\n",
    "plt.xlabel('SNR [dB]')\n",
    "plt.ylabel('Mean error [degrees]')\n",
    "plt.legend()"
   ]
  },
  {
   "cell_type": "markdown",
   "metadata": {},
   "source": [
    "Bisseção/Falsa posição\n",
    "\n",
    "|$ i $ | $ a_i $ | $ b_i $ | $ x_i $ | $ f(a_i) $ | $ f(b_i) $ | $ f(x_i) $|\n",
    "|:---:|---|---|---|---|---|---|\n",
    "| |  | |  |  |  | \n",
    "\n",
    "Secante\n",
    "\n",
    "$i$ | $x_{i-1}$ | $x_i$ | $f(x_{i-1})$ | $f(x_i)$ | $x_{i+1}$\n",
    "---|---|---|---|---|---\n",
    " | | |  |  |  \n",
    "\n",
    "Newton\n",
    "\n",
    "|$i$ | $x_i$ | $x_{i+1}$|\n",
    "|---|---|---|\n",
    " |  |"
   ]
  }
 ],
 "metadata": {
  "kernelspec": {
   "display_name": "Python 3",
   "language": "python",
   "name": "python3"
  },
  "language_info": {
   "codemirror_mode": {
    "name": "ipython",
    "version": 3
   },
   "file_extension": ".py",
   "mimetype": "text/x-python",
   "name": "python",
   "nbconvert_exporter": "python",
   "pygments_lexer": "ipython3",
   "version": "3.10.12"
  }
 },
 "nbformat": 4,
 "nbformat_minor": 2
}
